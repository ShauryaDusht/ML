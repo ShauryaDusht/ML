{
  "nbformat": 4,
  "nbformat_minor": 0,
  "metadata": {
    "colab": {
      "provenance": [],
      "authorship_tag": "ABX9TyNZBspDR5vHvZF56ucWGROu",
      "include_colab_link": true
    },
    "kernelspec": {
      "name": "python3",
      "display_name": "Python 3"
    },
    "language_info": {
      "name": "python"
    }
  },
  "cells": [
    {
      "cell_type": "markdown",
      "metadata": {
        "id": "view-in-github",
        "colab_type": "text"
      },
      "source": [
        "<a href=\"https://colab.research.google.com/github/ShauryaDusht/ML/blob/main/ML_1.ipynb\" target=\"_parent\"><img src=\"https://colab.research.google.com/assets/colab-badge.svg\" alt=\"Open In Colab\"/></a>"
      ]
    },
    {
      "cell_type": "code",
      "execution_count": 3,
      "metadata": {
        "id": "uWGyz04Z2Q_O"
      },
      "outputs": [],
      "source": [
        "import torch as t"
      ]
    },
    {
      "cell_type": "code",
      "source": [
        "a = t.tensor([1,2,3]) # tensor takes only 1 tensor as input\n",
        "print(a)\n",
        "a.ndim # ndim gives the dimension of tensor"
      ],
      "metadata": {
        "colab": {
          "base_uri": "https://localhost:8080/"
        },
        "id": "VDhoPOnB2Z1e",
        "outputId": "eaac18ff-16ba-455a-f7f0-03d0bdc8f955"
      },
      "execution_count": 4,
      "outputs": [
        {
          "output_type": "stream",
          "name": "stdout",
          "text": [
            "tensor([1, 2, 3])\n"
          ]
        },
        {
          "output_type": "execute_result",
          "data": {
            "text/plain": [
              "1"
            ]
          },
          "metadata": {},
          "execution_count": 4
        }
      ]
    },
    {
      "cell_type": "code",
      "source": [
        "s = t.tensor(7)\n",
        "s.ndim # scalar has 0 ndim"
      ],
      "metadata": {
        "colab": {
          "base_uri": "https://localhost:8080/"
        },
        "id": "0mnYQIWb3Z23",
        "outputId": "c5c2a6f2-d932-4a27-ccf7-3a9372ba0850"
      },
      "execution_count": 5,
      "outputs": [
        {
          "output_type": "execute_result",
          "data": {
            "text/plain": [
              "0"
            ]
          },
          "metadata": {},
          "execution_count": 5
        }
      ]
    },
    {
      "cell_type": "code",
      "source": [
        "aa = t.tensor([[1,2,3],[4,5,6],[7,8,9]])\n",
        "aa.ndim # there are 2d matrix so 2 is given as answer"
      ],
      "metadata": {
        "colab": {
          "base_uri": "https://localhost:8080/"
        },
        "id": "jbLiH-HF39d8",
        "outputId": "f6abe87f-8b61-422a-9e30-e705d2ad50af"
      },
      "execution_count": 6,
      "outputs": [
        {
          "output_type": "execute_result",
          "data": {
            "text/plain": [
              "2"
            ]
          },
          "metadata": {},
          "execution_count": 6
        }
      ]
    },
    {
      "cell_type": "code",
      "source": [
        "print(aa.shape)\n",
        "print(a.shape)\n"
      ],
      "metadata": {
        "colab": {
          "base_uri": "https://localhost:8080/"
        },
        "id": "J3cuEGnO4UVH",
        "outputId": "46324c69-1ce5-4c27-fa55-fc7dc22e9325"
      },
      "execution_count": 7,
      "outputs": [
        {
          "output_type": "stream",
          "name": "stdout",
          "text": [
            "torch.Size([3, 3])\n",
            "torch.Size([3])\n"
          ]
        }
      ]
    },
    {
      "cell_type": "code",
      "source": [
        "r = t.rand(size=(2,3))\n",
        "r, r.dtype # dtype gives the data type of tensor"
      ],
      "metadata": {
        "colab": {
          "base_uri": "https://localhost:8080/"
        },
        "id": "9iqEshZS4eXq",
        "outputId": "204c4b10-fb7b-4b6f-ee58-309cbe4dc0b9"
      },
      "execution_count": 8,
      "outputs": [
        {
          "output_type": "execute_result",
          "data": {
            "text/plain": [
              "(tensor([[0.0707, 0.5348, 0.9371],\n",
              "         [0.4186, 0.6166, 0.2227]]),\n",
              " torch.float32)"
            ]
          },
          "metadata": {},
          "execution_count": 8
        }
      ]
    },
    {
      "cell_type": "code",
      "source": [
        "z = t.zeros(size=(3,4))\n",
        "z, z.dtype"
      ],
      "metadata": {
        "colab": {
          "base_uri": "https://localhost:8080/"
        },
        "id": "3rlQwuRL4vm5",
        "outputId": "28aa013a-227f-429f-9725-56bed132287a"
      },
      "execution_count": 9,
      "outputs": [
        {
          "output_type": "execute_result",
          "data": {
            "text/plain": [
              "(tensor([[0., 0., 0., 0.],\n",
              "         [0., 0., 0., 0.],\n",
              "         [0., 0., 0., 0.]]),\n",
              " torch.float32)"
            ]
          },
          "metadata": {},
          "execution_count": 9
        }
      ]
    },
    {
      "cell_type": "code",
      "source": [
        "o = t.zeros(size=(3,4))\n",
        "o, o.dtype"
      ],
      "metadata": {
        "colab": {
          "base_uri": "https://localhost:8080/"
        },
        "id": "HHuFpVKn4_Zp",
        "outputId": "ec0db747-c127-4bfc-f039-f4b07a4946ab"
      },
      "execution_count": 10,
      "outputs": [
        {
          "output_type": "execute_result",
          "data": {
            "text/plain": [
              "(tensor([[0., 0., 0., 0.],\n",
              "         [0., 0., 0., 0.],\n",
              "         [0., 0., 0., 0.]]),\n",
              " torch.float32)"
            ]
          },
          "metadata": {},
          "execution_count": 10
        }
      ]
    },
    {
      "cell_type": "code",
      "source": [
        "range = t.arange(start=1,end=101,step=2) # start,end,step same as python\n",
        "range"
      ],
      "metadata": {
        "colab": {
          "base_uri": "https://localhost:8080/"
        },
        "id": "rvSVg3Bl5FBq",
        "outputId": "11dcbfaf-19b1-4ec2-ce60-7c56390dd4c9"
      },
      "execution_count": 11,
      "outputs": [
        {
          "output_type": "execute_result",
          "data": {
            "text/plain": [
              "tensor([ 1,  3,  5,  7,  9, 11, 13, 15, 17, 19, 21, 23, 25, 27, 29, 31, 33, 35,\n",
              "        37, 39, 41, 43, 45, 47, 49, 51, 53, 55, 57, 59, 61, 63, 65, 67, 69, 71,\n",
              "        73, 75, 77, 79, 81, 83, 85, 87, 89, 91, 93, 95, 97, 99])"
            ]
          },
          "metadata": {},
          "execution_count": 11
        }
      ]
    },
    {
      "cell_type": "code",
      "source": [
        "# create a zero array similar to a tensor\n",
        "tt = t.zeros_like(input=aa)\n",
        "tt,aa"
      ],
      "metadata": {
        "colab": {
          "base_uri": "https://localhost:8080/"
        },
        "id": "M5Yrv-bI5OOJ",
        "outputId": "27b3e42b-84a6-4769-8a62-180f2f2862f6"
      },
      "execution_count": 12,
      "outputs": [
        {
          "output_type": "execute_result",
          "data": {
            "text/plain": [
              "(tensor([[0, 0, 0],\n",
              "         [0, 0, 0],\n",
              "         [0, 0, 0]]),\n",
              " tensor([[1, 2, 3],\n",
              "         [4, 5, 6],\n",
              "         [7, 8, 9]]))"
            ]
          },
          "metadata": {},
          "execution_count": 12
        }
      ]
    },
    {
      "cell_type": "code",
      "source": [
        "# Create a tensor\n",
        "some_tensor = t.rand(3, 4)\n",
        "\n",
        "# Find out details about it\n",
        "print(some_tensor)\n",
        "print(f\"Shape of tensor: {some_tensor.shape}\")\n",
        "print(f\"Datatype of tensor: {some_tensor.dtype}\")\n",
        "print(f\"Device tensor is stored on: {some_tensor.device}\") # will default to CPU"
      ],
      "metadata": {
        "colab": {
          "base_uri": "https://localhost:8080/"
        },
        "id": "Ie7FGGkC5eOS",
        "outputId": "7e7548b5-d5d5-4188-de97-3cf5d00b671c"
      },
      "execution_count": 13,
      "outputs": [
        {
          "output_type": "stream",
          "name": "stdout",
          "text": [
            "tensor([[0.7347, 0.1647, 0.7026, 0.4375],\n",
            "        [0.1901, 0.2310, 0.4856, 0.6705],\n",
            "        [0.7184, 0.0989, 0.0667, 0.3389]])\n",
            "Shape of tensor: torch.Size([3, 4])\n",
            "Datatype of tensor: torch.float32\n",
            "Device tensor is stored on: cpu\n"
          ]
        }
      ]
    },
    {
      "cell_type": "markdown",
      "source": [
        "Arithematic operations"
      ],
      "metadata": {
        "id": "3k-Di0S35-ul"
      }
    },
    {
      "cell_type": "code",
      "source": [
        "a"
      ],
      "metadata": {
        "colab": {
          "base_uri": "https://localhost:8080/"
        },
        "id": "dx00XMuu6GBj",
        "outputId": "c572545e-49bd-429a-8f10-5bfef5ecdc67"
      },
      "execution_count": 14,
      "outputs": [
        {
          "output_type": "execute_result",
          "data": {
            "text/plain": [
              "tensor([1, 2, 3])"
            ]
          },
          "metadata": {},
          "execution_count": 14
        }
      ]
    },
    {
      "cell_type": "code",
      "source": [
        "a + 10, a*10, a-10,"
      ],
      "metadata": {
        "colab": {
          "base_uri": "https://localhost:8080/"
        },
        "id": "NmvecTa76IZC",
        "outputId": "3f21704c-d77a-42d1-8f98-0d708d9a6337"
      },
      "execution_count": 15,
      "outputs": [
        {
          "output_type": "execute_result",
          "data": {
            "text/plain": [
              "(tensor([11, 12, 13]), tensor([10, 20, 30]), tensor([-9, -8, -7]))"
            ]
          },
          "metadata": {},
          "execution_count": 15
        }
      ]
    },
    {
      "cell_type": "code",
      "source": [
        "# we can use t.add() and t.mul() to perform addition and multiplication\n",
        "# '*' does element wise multiplication\n",
        "t.multiply(a,10), t.add(a,10)"
      ],
      "metadata": {
        "colab": {
          "base_uri": "https://localhost:8080/"
        },
        "id": "XKw-J1Cm6Nxg",
        "outputId": "e46a8a32-6fa4-483a-e578-d13c7f805fd2"
      },
      "execution_count": 16,
      "outputs": [
        {
          "output_type": "execute_result",
          "data": {
            "text/plain": [
              "(tensor([10, 20, 30]), tensor([11, 12, 13]))"
            ]
          },
          "metadata": {},
          "execution_count": 16
        }
      ]
    },
    {
      "cell_type": "code",
      "source": [
        "# matrix multiplication\n",
        "# NxM and MxP matrix can only be multiplied\n",
        "# otherwise it will throw error\n",
        "print(\"Elementwise multiplication: \", a*a)\n",
        "print(\"Matrix Multiplication: \", aa.matmul(aa)) # t.mm() can also be used\n",
        "# matmul function is always fater than conventional for loops to find matrix multiplication"
      ],
      "metadata": {
        "colab": {
          "base_uri": "https://localhost:8080/"
        },
        "id": "nIy3HikS6cBI",
        "outputId": "851d052c-8037-4b13-b46c-67dc8db11826"
      },
      "execution_count": 17,
      "outputs": [
        {
          "output_type": "stream",
          "name": "stdout",
          "text": [
            "Elementwise multiplication:  tensor([1, 4, 9])\n",
            "Matrix Multiplication:  tensor([[ 30,  36,  42],\n",
            "        [ 66,  81,  96],\n",
            "        [102, 126, 150]])\n"
          ]
        }
      ]
    },
    {
      "cell_type": "code",
      "source": [
        "# Transpose\n",
        "t.matmul(r,r.T)"
      ],
      "metadata": {
        "colab": {
          "base_uri": "https://localhost:8080/"
        },
        "id": "JugDfTLf6lji",
        "outputId": "8a2e3a36-805c-4c5e-9861-df895dddd22e"
      },
      "execution_count": 18,
      "outputs": [
        {
          "output_type": "execute_result",
          "data": {
            "text/plain": [
              "tensor([[1.1692, 0.5680],\n",
              "        [0.5680, 0.6050]])"
            ]
          },
          "metadata": {},
          "execution_count": 18
        }
      ]
    },
    {
      "cell_type": "code",
      "source": [
        "# Neural networks are full of matrix mul and dot products\n",
        "# We can also use linear() function to change shape of a input to a desired one\n",
        "# Since the linear layer starts with a random weights matrix, let's make it reproducible (more on this later)\n",
        "t.manual_seed(42)\n",
        "# This uses matrix multiplication\n",
        "linear = t.nn.Linear(in_features=2, # in_features = matches inner dimension of input\n",
        "                         out_features=6) # out_features = describes outer value\n",
        "linear\n",
        "# linear tensor is like a system with 2 input and 6 output\n",
        "# or it is a layer in neural network"
      ],
      "metadata": {
        "colab": {
          "base_uri": "https://localhost:8080/"
        },
        "id": "KswJ-V7l7dqR",
        "outputId": "4f16373c-f66f-424d-acf8-073ff27455d2"
      },
      "execution_count": 23,
      "outputs": [
        {
          "output_type": "execute_result",
          "data": {
            "text/plain": [
              "Linear(in_features=2, out_features=6, bias=True)"
            ]
          },
          "metadata": {},
          "execution_count": 23
        }
      ]
    },
    {
      "cell_type": "code",
      "source": [
        "print(a)\n",
        "print(a.min())\n",
        "print(a.max())\n",
        "print(a.sum())\n",
        "print(a.type(t.float32).mean())  # for mean data should be in float32 format"
      ],
      "metadata": {
        "colab": {
          "base_uri": "https://localhost:8080/"
        },
        "id": "GVlVQoLt29_Y",
        "outputId": "d42d37d2-81ce-4abc-e340-d2fa86789b28"
      },
      "execution_count": 24,
      "outputs": [
        {
          "output_type": "stream",
          "name": "stdout",
          "text": [
            "tensor([1, 2, 3])\n",
            "tensor(1)\n",
            "tensor(3)\n",
            "tensor(6)\n",
            "tensor(2.)\n"
          ]
        }
      ]
    },
    {
      "cell_type": "code",
      "source": [
        "# find index of max and min\n",
        "print(aa.argmin())\n",
        "print(aa.argmax())\n",
        "print(aa)"
      ],
      "metadata": {
        "colab": {
          "base_uri": "https://localhost:8080/"
        },
        "id": "3KHnG8K04NPr",
        "outputId": "c2b4d572-c594-4b66-9e08-b70d9beec79f"
      },
      "execution_count": 27,
      "outputs": [
        {
          "output_type": "stream",
          "name": "stdout",
          "text": [
            "tensor(0)\n",
            "tensor(8)\n",
            "tensor([[1, 2, 3],\n",
            "        [4, 5, 6],\n",
            "        [7, 8, 9]])\n"
          ]
        }
      ]
    },
    {
      "cell_type": "code",
      "source": [
        "# changing datatype of a tensor\n",
        "# we can reduce computational power using particular datatype\n",
        "aa_float16 = aa.type(t.float16)\n",
        "aa_float32 = aa.type(t.float32)\n",
        "aa_int8 = aa.type(t.int8)\n",
        "aa_int16 = aa.type(t.int16)\n",
        "print(aa_float16)\n",
        "print(aa_float32)\n",
        "print(aa_int8)\n",
        "print(aa_int16)"
      ],
      "metadata": {
        "colab": {
          "base_uri": "https://localhost:8080/"
        },
        "id": "APLVQjBg4YyN",
        "outputId": "362d3765-11fb-46e4-e4a8-c6803cca5a9c"
      },
      "execution_count": 32,
      "outputs": [
        {
          "output_type": "stream",
          "name": "stdout",
          "text": [
            "tensor([[1., 2., 3.],\n",
            "        [4., 5., 6.],\n",
            "        [7., 8., 9.]], dtype=torch.float16)\n",
            "tensor([[1., 2., 3.],\n",
            "        [4., 5., 6.],\n",
            "        [7., 8., 9.]])\n",
            "tensor([[1, 2, 3],\n",
            "        [4, 5, 6],\n",
            "        [7, 8, 9]], dtype=torch.int8)\n",
            "tensor([[1, 2, 3],\n",
            "        [4, 5, 6],\n",
            "        [7, 8, 9]], dtype=torch.int16)\n"
          ]
        }
      ]
    },
    {
      "cell_type": "code",
      "source": [
        "# Reshaping, Stacking, Squeezing, Unsqueezing\n",
        "g = t.arange(1,21)\n",
        "g,g.shape"
      ],
      "metadata": {
        "colab": {
          "base_uri": "https://localhost:8080/"
        },
        "id": "oqfIGjde4zaj",
        "outputId": "ea7efe66-4f20-4e63-8222-8895fad40fc2"
      },
      "execution_count": 38,
      "outputs": [
        {
          "output_type": "execute_result",
          "data": {
            "text/plain": [
              "(tensor([ 1,  2,  3,  4,  5,  6,  7,  8,  9, 10, 11, 12, 13, 14, 15, 16, 17, 18,\n",
              "         19, 20]),\n",
              " torch.Size([20]))"
            ]
          },
          "metadata": {},
          "execution_count": 38
        }
      ]
    },
    {
      "cell_type": "code",
      "source": [
        "# Reshape add extra dimension\n",
        "gr = g.reshape(2,2,5)\n",
        "print(gr, gr.shape)\n",
        "# view can also be used\n",
        "gv = g.view(4,5)\n",
        "print(gv)\n",
        "# changing the view also changes the original tensor\n",
        "# both g and gv share the same memory location"
      ],
      "metadata": {
        "colab": {
          "base_uri": "https://localhost:8080/"
        },
        "id": "rPtKpwhY5oy6",
        "outputId": "750a3d4b-0dbe-42b6-8cc9-5781b3c4930d"
      },
      "execution_count": 43,
      "outputs": [
        {
          "output_type": "stream",
          "name": "stdout",
          "text": [
            "tensor([[[ 1,  2,  3,  4,  5],\n",
            "         [ 6,  7,  8,  9, 10]],\n",
            "\n",
            "        [[11, 12, 13, 14, 15],\n",
            "         [16, 17, 18, 19, 20]]]) torch.Size([2, 2, 5])\n",
            "tensor([[ 1,  2,  3,  4,  5],\n",
            "        [ 6,  7,  8,  9, 10],\n",
            "        [11, 12, 13, 14, 15],\n",
            "        [16, 17, 18, 19, 20]])\n"
          ]
        }
      ]
    },
    {
      "cell_type": "code",
      "source": [
        "# Stacking"
      ],
      "metadata": {
        "id": "ntSCLPad50rf"
      },
      "execution_count": null,
      "outputs": []
    }
  ]
}