{
  "nbformat": 4,
  "nbformat_minor": 0,
  "metadata": {
    "colab": {
      "provenance": [],
      "gpuType": "T4"
    },
    "kernelspec": {
      "name": "python3",
      "display_name": "Python 3"
    },
    "language_info": {
      "name": "python"
    },
    "accelerator": "GPU"
  },
  "cells": [
    {
      "cell_type": "markdown",
      "source": [
        "# MODEL TRAINING AND LINEAR REGRESSION"
      ],
      "metadata": {
        "id": "qr2HPLiZTseO"
      }
    },
    {
      "cell_type": "markdown",
      "source": [
        "# Linear Regression using gradient descent(manually)"
      ],
      "metadata": {
        "id": "v48Vxv3-UQv7"
      }
    },
    {
      "cell_type": "markdown",
      "source": [
        "## 1. Data(preparing and loading)"
      ],
      "metadata": {
        "id": "4TAJtBULN1K1"
      }
    },
    {
      "cell_type": "code",
      "source": [
        "import torch\n",
        "from torch import nn\n",
        "import matplotlib.pyplot as plt"
      ],
      "metadata": {
        "id": "h2GmkSznOdaz"
      },
      "execution_count": 139,
      "outputs": []
    },
    {
      "cell_type": "code",
      "source": [
        "slope  = 3\n",
        "inter = 2\n",
        "# y = slope * x + intercept\n",
        "start = 0\n",
        "end = 1\n",
        "step = 0.02\n",
        "X = torch.arange(start,end,step).unsqueeze(dim=1)\n",
        "y = X * slope + inter\n",
        "\n",
        "X[:10], y[:10]"
      ],
      "metadata": {
        "colab": {
          "base_uri": "https://localhost:8080/"
        },
        "id": "_Ihz20brOBOp",
        "outputId": "52469967-a63b-4149-ee4b-cdfb516a7a0b"
      },
      "execution_count": 140,
      "outputs": [
        {
          "output_type": "execute_result",
          "data": {
            "text/plain": [
              "(tensor([[0.0000],\n",
              "         [0.0200],\n",
              "         [0.0400],\n",
              "         [0.0600],\n",
              "         [0.0800],\n",
              "         [0.1000],\n",
              "         [0.1200],\n",
              "         [0.1400],\n",
              "         [0.1600],\n",
              "         [0.1800]]),\n",
              " tensor([[2.0000],\n",
              "         [2.0600],\n",
              "         [2.1200],\n",
              "         [2.1800],\n",
              "         [2.2400],\n",
              "         [2.3000],\n",
              "         [2.3600],\n",
              "         [2.4200],\n",
              "         [2.4800],\n",
              "         [2.5400]]))"
            ]
          },
          "metadata": {},
          "execution_count": 140
        }
      ]
    },
    {
      "cell_type": "markdown",
      "source": [
        "### Splitting data into training and test sets"
      ],
      "metadata": {
        "id": "6qDIxMInOzXp"
      }
    },
    {
      "cell_type": "code",
      "source": [
        "# Training set - 60%-80%\n",
        "# Validation set - 10%-20%\n",
        "# Testing set - 10%-20%\n",
        "\n",
        "fac = int(0.8 * len(X))\n",
        "X_train, y_train = X[:fac], y[:fac]\n",
        "X_test, y_test = X[fac:], y[fac:]\n",
        "\n",
        "len(X_train),len(X_test),len(y_train),len(y_train)"
      ],
      "metadata": {
        "colab": {
          "base_uri": "https://localhost:8080/"
        },
        "id": "0u_cbp7fPKuU",
        "outputId": "29ac6219-1d10-4836-824c-b7a29b3bfec1"
      },
      "execution_count": 141,
      "outputs": [
        {
          "output_type": "execute_result",
          "data": {
            "text/plain": [
              "(40, 10, 40, 40)"
            ]
          },
          "metadata": {},
          "execution_count": 141
        }
      ]
    },
    {
      "cell_type": "code",
      "source": [
        "def plot(train_data=X_train,\n",
        "         train_labels=y_train,\n",
        "         test_data=X_test,\n",
        "         test_labels=y_test,\n",
        "         predictions=None):\n",
        "  plt.figure(figsize=(10, 7))\n",
        "  plt.scatter(train_data, train_labels, c=\"b\", s=4, label=\"Training data\")\n",
        "  plt.scatter(test_data, test_labels, c=\"g\", s=4, label=\"Testing data\")\n",
        "  if predictions is not None:\n",
        "    plt.scatter(test_data, predictions, c=\"r\", s=4, label=\"Predictions\")\n",
        "  plt.legend(prop={\"size\": 14});\n"
      ],
      "metadata": {
        "id": "q1z6i8Z9PyCj"
      },
      "execution_count": 142,
      "outputs": []
    },
    {
      "cell_type": "code",
      "source": [
        "plot();"
      ],
      "metadata": {
        "colab": {
          "base_uri": "https://localhost:8080/",
          "height": 599
        },
        "id": "-ZbxUN5jQ6nG",
        "outputId": "8e86d760-e9f3-487a-85b1-19893d757bba"
      },
      "execution_count": 143,
      "outputs": [
        {
          "output_type": "display_data",
          "data": {
            "text/plain": [
              "<Figure size 1000x700 with 1 Axes>"
            ],
            "image/png": "[encoded data removed]"
          },
          "metadata": {}
        }
      ]
    },
    {
      "cell_type": "markdown",
      "source": [
        "## 2. Build Model"
      ],
      "metadata": {
        "id": "GoY1ZGqrRSa0"
      }
    },
    {
      "cell_type": "code",
      "source": [
        "import torch\n",
        "from torch import nn\n",
        "# making a linear regression model class\n",
        "class LinearRegressionModel(nn.Module):\n",
        "    def __init__(self):\n",
        "        super().__init__()\n",
        "        self.slope = nn.Parameter(torch.randn(1,dtype=torch.float),\n",
        "                                    requires_grad=True)\n",
        "        self.inter = nn.Parameter(torch.randn(1,dtype=torch.float),\n",
        "                                    requires_grad=True)\n",
        "\n",
        "    def forward(self, x:torch.Tensor) -> torch.Tensor:\n",
        "        return self.slope * x + self.inter"
      ],
      "metadata": {
        "id": "ksA6Onc5RarA"
      },
      "execution_count": 144,
      "outputs": []
    },
    {
      "cell_type": "code",
      "source": [
        "torch.manual_seed(42)\n",
        "model_1 = LinearRegressionModel()\n",
        "\n",
        "list(model_1.parameters())"
      ],
      "metadata": {
        "colab": {
          "base_uri": "https://localhost:8080/"
        },
        "id": "stjmZt4YSB9h",
        "outputId": "0608a673-5a3f-46b9-ac3e-bc3ae2c9d36f"
      },
      "execution_count": 145,
      "outputs": [
        {
          "output_type": "execute_result",
          "data": {
            "text/plain": [
              "[Parameter containing:\n",
              " tensor([0.3367], requires_grad=True),\n",
              " Parameter containing:\n",
              " tensor([0.1288], requires_grad=True)]"
            ]
          },
          "metadata": {},
          "execution_count": 145
        }
      ]
    },
    {
      "cell_type": "code",
      "source": [
        "model_1.state_dict()"
      ],
      "metadata": {
        "colab": {
          "base_uri": "https://localhost:8080/"
        },
        "id": "RDe_At9xSWVk",
        "outputId": "51c499a7-97d0-4856-8018-c324f421cc55"
      },
      "execution_count": 146,
      "outputs": [
        {
          "output_type": "execute_result",
          "data": {
            "text/plain": [
              "OrderedDict([('slope', tensor([0.3367])), ('inter', tensor([0.1288]))])"
            ]
          },
          "metadata": {},
          "execution_count": 146
        }
      ]
    },
    {
      "cell_type": "markdown",
      "source": [
        "#### Making predictions\n"
      ],
      "metadata": {
        "id": "FQEBdRAoT29M"
      }
    },
    {
      "cell_type": "code",
      "source": [
        "# use .inference_mode()\n",
        "with torch.inference_mode():\n",
        "    y_preds = model_1(X_test)\n",
        "\n",
        "# older PyTorch used .no_grad()"
      ],
      "metadata": {
        "id": "F2sJw-BUUIS_"
      },
      "execution_count": 147,
      "outputs": []
    },
    {
      "cell_type": "code",
      "source": [
        "print(f\"Number of testing samples: {len(X_test)}\")\n",
        "print(f\"Number of predictions made: {len(y_preds)}\")\n",
        "print(f\"Predicted values:\\n{y_preds}\")"
      ],
      "metadata": {
        "colab": {
          "base_uri": "https://localhost:8080/"
        },
        "id": "gfUq0-3LUVLR",
        "outputId": "84d36a93-2906-4be1-e578-def7e6d037c7"
      },
      "execution_count": 148,
      "outputs": [
        {
          "output_type": "stream",
          "name": "stdout",
          "text": [
            "Number of testing samples: 10\n",
            "Number of predictions made: 10\n",
            "Predicted values:\n",
            "tensor([[0.3982],\n",
            "        [0.4049],\n",
            "        [0.4116],\n",
            "        [0.4184],\n",
            "        [0.4251],\n",
            "        [0.4318],\n",
            "        [0.4386],\n",
            "        [0.4453],\n",
            "        [0.4520],\n",
            "        [0.4588]])\n"
          ]
        }
      ]
    },
    {
      "cell_type": "code",
      "source": [],
      "metadata": {
        "id": "XiNiTf6uUm-p"
      },
      "execution_count": 148,
      "outputs": []
    },
    {
      "cell_type": "code",
      "source": [
        "plot(predictions=y_preds)"
      ],
      "metadata": {
        "colab": {
          "base_uri": "https://localhost:8080/",
          "height": 599
        },
        "id": "O5_bNVN7UbHW",
        "outputId": "8af5dd5f-612a-47f0-c48c-769141cadbf1"
      },
      "execution_count": 149,
      "outputs": [
        {
          "output_type": "display_data",
          "data": {
            "text/plain": [
              "<Figure size 1000x700 with 1 Axes>"
            ],
            "image/png": "[encoded data removed]"
          },
          "metadata": {}
        }
      ]
    },
    {
      "cell_type": "code",
      "source": [
        "y_test, y_preds"
      ],
      "metadata": {
        "colab": {
          "base_uri": "https://localhost:8080/"
        },
        "id": "L7gbisIQUesJ",
        "outputId": "75d1fba1-1caa-4e39-8346-1ded6f8dcaf9"
      },
      "execution_count": 150,
      "outputs": [
        {
          "output_type": "execute_result",
          "data": {
            "text/plain": [
              "(tensor([[4.4000],\n",
              "         [4.4600],\n",
              "         [4.5200],\n",
              "         [4.5800],\n",
              "         [4.6400],\n",
              "         [4.7000],\n",
              "         [4.7600],\n",
              "         [4.8200],\n",
              "         [4.8800],\n",
              "         [4.9400]]),\n",
              " tensor([[0.3982],\n",
              "         [0.4049],\n",
              "         [0.4116],\n",
              "         [0.4184],\n",
              "         [0.4251],\n",
              "         [0.4318],\n",
              "         [0.4386],\n",
              "         [0.4453],\n",
              "         [0.4520],\n",
              "         [0.4588]]))"
            ]
          },
          "metadata": {},
          "execution_count": 150
        }
      ]
    },
    {
      "cell_type": "markdown",
      "source": [
        "## 3. Train Model"
      ],
      "metadata": {
        "id": "rt7GKsgKUz63"
      }
    },
    {
      "cell_type": "markdown",
      "source": [
        "### Creating loss function and optimizer"
      ],
      "metadata": {
        "id": "lfM0aSVAU-XK"
      }
    },
    {
      "cell_type": "code",
      "source": [
        "# loss function is difference between test and predicted values\n",
        "loss_fn = nn.L1Loss()\n",
        "\n",
        "optimizer = torch.optim.SGD(params=model_1.parameters(),\n",
        "                            lr = 0.001)\n",
        "# lr -> learning rate"
      ],
      "metadata": {
        "id": "JKbEqpGuVGuA"
      },
      "execution_count": 151,
      "outputs": []
    },
    {
      "cell_type": "markdown",
      "source": [
        "### Creating optimization loop"
      ],
      "metadata": {
        "id": "_MPA2dKYVhey"
      }
    },
    {
      "cell_type": "code",
      "source": [
        "torch.manual_seed(42)\n",
        "\n",
        "epochs = 12001\n",
        "\n",
        "train_loss_values = []\n",
        "test_loss_values = []\n",
        "i_count = []\n",
        "\n",
        "for i in range(epochs):\n",
        "    # Put model in training made\n",
        "    model_1.train()\n",
        "\n",
        "    # 1. Forward Pass\n",
        "    y_pred = model_1(X_train)\n",
        "\n",
        "    # 2. Calculate loss function\n",
        "    loss = loss_fn(y_pred, y_train)\n",
        "\n",
        "    # 3. Zero grad of optimizer\n",
        "    optimizer.zero_grad()\n",
        "\n",
        "    # 4. Loss backwards\n",
        "    loss.backward()\n",
        "\n",
        "    # 5. Progress the optimizer\n",
        "    optimizer.step()\n",
        "\n",
        "    ## TESTING\n",
        "    model_1.eval()\n",
        "\n",
        "    with torch.inference_mode():\n",
        "        test_pred = model_1(X_test)\n",
        "\n",
        "        test_loss = loss_fn(test_pred, y_test.type(torch.float))\n",
        "\n",
        "        if i % 1000 == 0:\n",
        "            i_count.append(i)\n",
        "            train_loss_values.append(loss.detach().numpy())\n",
        "            test_loss_values.append(test_loss.detach().numpy())\n",
        "            print(\"Epoch:\",i,\"Train Loss:\",loss,\"Tets Loss:\",test_loss)\n",
        "\n"
      ],
      "metadata": {
        "colab": {
          "base_uri": "https://localhost:8080/"
        },
        "id": "1kSKmu1CVnpF",
        "outputId": "4dd1d9f0-6112-4e86-e938-df24b9b5de97"
      },
      "execution_count": 152,
      "outputs": [
        {
          "output_type": "stream",
          "name": "stdout",
          "text": [
            "Epoch: 0 Train Loss: tensor(2.9099, grad_fn=<MeanBackward0>) Tets Loss: tensor(4.2402)\n",
            "Epoch: 1000 Train Loss: tensor(1.7578, grad_fn=<MeanBackward0>) Tets Loss: tensor(2.8931)\n",
            "Epoch: 2000 Train Loss: tensor(0.6308, grad_fn=<MeanBackward0>) Tets Loss: tensor(1.5596)\n",
            "Epoch: 3000 Train Loss: tensor(0.3183, grad_fn=<MeanBackward0>) Tets Loss: tensor(0.8647)\n",
            "Epoch: 4000 Train Loss: tensor(0.2717, grad_fn=<MeanBackward0>) Tets Loss: tensor(0.6602)\n",
            "Epoch: 5000 Train Loss: tensor(0.2369, grad_fn=<MeanBackward0>) Tets Loss: tensor(0.5539)\n",
            "Epoch: 6000 Train Loss: tensor(0.2025, grad_fn=<MeanBackward0>) Tets Loss: tensor(0.4736)\n",
            "Epoch: 7000 Train Loss: tensor(0.1682, grad_fn=<MeanBackward0>) Tets Loss: tensor(0.3932)\n",
            "Epoch: 8000 Train Loss: tensor(0.1339, grad_fn=<MeanBackward0>) Tets Loss: tensor(0.3129)\n",
            "Epoch: 9000 Train Loss: tensor(0.0995, grad_fn=<MeanBackward0>) Tets Loss: tensor(0.2326)\n",
            "Epoch: 10000 Train Loss: tensor(0.0652, grad_fn=<MeanBackward0>) Tets Loss: tensor(0.1523)\n",
            "Epoch: 11000 Train Loss: tensor(0.0308, grad_fn=<MeanBackward0>) Tets Loss: tensor(0.0720)\n",
            "Epoch: 12000 Train Loss: tensor(0.0009, grad_fn=<MeanBackward0>) Tets Loss: tensor(0.0005)\n"
          ]
        }
      ]
    },
    {
      "cell_type": "code",
      "source": [
        "plt.plot(i_count, train_loss_values, label=\"Train loss\")\n",
        "plt.plot(i_count, test_loss_values, label=\"Test loss\")\n",
        "plt.title(\"Training and test loss curves\")\n",
        "plt.ylabel(\"Loss\")\n",
        "plt.xlabel(\"Epochs\")\n",
        "plt.legend();"
      ],
      "metadata": {
        "colab": {
          "base_uri": "https://localhost:8080/",
          "height": 472
        },
        "id": "CUSqVorzXa0e",
        "outputId": "af6a8382-ca59-403b-89ed-67f61c556540"
      },
      "execution_count": 153,
      "outputs": [
        {
          "output_type": "display_data",
          "data": {
            "text/plain": [
              "<Figure size 640x480 with 1 Axes>"
            ],
            "image/png": "[encoded data removed]"
          },
          "metadata": {}
        }
      ]
    },
    {
      "cell_type": "markdown",
      "source": [
        "## 4. Making predictions"
      ],
      "metadata": {
        "id": "bt7mVhTDYOHv"
      }
    },
    {
      "cell_type": "code",
      "source": [
        "model_1.eval()\n",
        "\n",
        "with torch.inference_mode():\n",
        "    y_preds = model_1(X_test)\n",
        "y_preds"
      ],
      "metadata": {
        "id": "68reBFcEYnIA",
        "colab": {
          "base_uri": "https://localhost:8080/"
        },
        "outputId": "a3409f13-7a6f-4973-c281-102dce9c85bc"
      },
      "execution_count": 154,
      "outputs": [
        {
          "output_type": "execute_result",
          "data": {
            "text/plain": [
              "tensor([[4.3996],\n",
              "        [4.4596],\n",
              "        [4.5196],\n",
              "        [4.5796],\n",
              "        [4.6396],\n",
              "        [4.6995],\n",
              "        [4.7595],\n",
              "        [4.8195],\n",
              "        [4.8795],\n",
              "        [4.9395]])"
            ]
          },
          "metadata": {},
          "execution_count": 154
        }
      ]
    },
    {
      "cell_type": "code",
      "source": [
        "plot(predictions = y_preds)"
      ],
      "metadata": {
        "colab": {
          "base_uri": "https://localhost:8080/",
          "height": 599
        },
        "id": "eDLy2I1qzTXN",
        "outputId": "b6cf5b6f-d09a-45bc-aa1c-a2217a51396b"
      },
      "execution_count": 155,
      "outputs": [
        {
          "output_type": "display_data",
          "data": {
            "text/plain": [
              "<Figure size 1000x700 with 1 Axes>"
            ],
            "image/png": "[encoded data removed]"
          },
          "metadata": {}
        }
      ]
    },
    {
      "cell_type": "markdown",
      "source": [
        "## Saving and Loading a PyTorch Model"
      ],
      "metadata": {
        "id": "kv5r6jsSzW3b"
      }
    },
    {
      "cell_type": "code",
      "source": [
        "from pathlib import Path\n",
        "\n",
        "# 1. Create model directory\n",
        "model_path = Path(\"models\")\n",
        "model_path.mkdir(parents=True, exist_ok=True)\n",
        "\n",
        "# 2. Create nodel save path\n",
        "model_anme = \"01_Linear regression.pth\"\n",
        "model_save_path = model_path / model_anme\n",
        "\n",
        "# 3. Save the model state dict\n",
        "print(f\"Saving model to:{model_save_path}\")\n",
        "torch.save(obj=model_1.state_dict(),\n",
        "               f=model_save_path)"
      ],
      "metadata": {
        "colab": {
          "base_uri": "https://localhost:8080/"
        },
        "id": "GEcX-5rPzjNn",
        "outputId": "735fc587-7b46-4ed1-ec69-57e4ff0fd06c"
      },
      "execution_count": 156,
      "outputs": [
        {
          "output_type": "stream",
          "name": "stdout",
          "text": [
            "Saving model to:models/01_Linear regression.pth\n"
          ]
        }
      ]
    },
    {
      "cell_type": "code",
      "source": [
        "!ls -l models/01_LinearRegression.pth"
      ],
      "metadata": {
        "colab": {
          "base_uri": "https://localhost:8080/"
        },
        "id": "Qu8RjAjH0HpE",
        "outputId": "89499a1f-08c6-4ebf-cae9-8b7897359971"
      },
      "execution_count": 157,
      "outputs": [
        {
          "output_type": "stream",
          "name": "stdout",
          "text": [
            "-rw-r--r-- 1 root root 1574 Mar  9 10:44 models/01_LinearRegression.pth\n"
          ]
        }
      ]
    },
    {
      "cell_type": "code",
      "source": [
        "loaded_model_1 = LinearRegressionModel()\n",
        "\n",
        "loaded_model_1.load_state_dict(torch.load(f=model_save_path))"
      ],
      "metadata": {
        "colab": {
          "base_uri": "https://localhost:8080/"
        },
        "id": "Jc5AmdmY0VjR",
        "outputId": "57e58525-1d55-4e62-9776-ffb1c26ce970"
      },
      "execution_count": 158,
      "outputs": [
        {
          "output_type": "execute_result",
          "data": {
            "text/plain": [
              "<All keys matched successfully>"
            ]
          },
          "metadata": {},
          "execution_count": 158
        }
      ]
    },
    {
      "cell_type": "code",
      "source": [
        "loaded_model_1.eval()\n",
        "with torch.inference_mode():\n",
        "    loaded_model_pred = loaded_model_1(X_test)\n",
        "y_preds == loaded_model_pred"
      ],
      "metadata": {
        "colab": {
          "base_uri": "https://localhost:8080/"
        },
        "id": "Crfobn7T0zPb",
        "outputId": "9e7470e0-123e-4b7c-e60b-e763e90a62ea"
      },
      "execution_count": 159,
      "outputs": [
        {
          "output_type": "execute_result",
          "data": {
            "text/plain": [
              "tensor([[True],\n",
              "        [True],\n",
              "        [True],\n",
              "        [True],\n",
              "        [True],\n",
              "        [True],\n",
              "        [True],\n",
              "        [True],\n",
              "        [True],\n",
              "        [True]])"
            ]
          },
          "metadata": {},
          "execution_count": 159
        }
      ]
    },
    {
      "cell_type": "markdown",
      "source": [
        "# Linear Regression using inbuilt functions"
      ],
      "metadata": {
        "id": "E4Ji127M1Na4"
      }
    },
    {
      "cell_type": "code",
      "source": [
        "import torch\n",
        "from torch import nn\n",
        "import matplotlib.pyplot as plt"
      ],
      "metadata": {
        "id": "DUnfXtus1sGw"
      },
      "execution_count": 160,
      "outputs": []
    },
    {
      "cell_type": "code",
      "source": [
        "device = \"cuda\" if torch.cuda.is_available() else \"cpu\"\n",
        "print(f\"Using device: {device}\")"
      ],
      "metadata": {
        "colab": {
          "base_uri": "https://localhost:8080/"
        },
        "id": "Ug9Y-B0v1ysf",
        "outputId": "515bca24-c9ad-498a-cc24-968c6846125e"
      },
      "execution_count": 161,
      "outputs": [
        {
          "output_type": "stream",
          "name": "stdout",
          "text": [
            "Using device: cuda\n"
          ]
        }
      ]
    },
    {
      "cell_type": "markdown",
      "source": [
        "## Defining necessary terms"
      ],
      "metadata": {
        "id": "mmhgRxDP2Sni"
      }
    },
    {
      "cell_type": "code",
      "source": [
        "slope = 3\n",
        "intercept = 2\n",
        "start = 0\n",
        "end = 1\n",
        "step = 0.02\n",
        "\n",
        "X = torch.arange(start,end,step).unsqueeze(dim = 1)\n",
        "y = X * slope + intercept\n",
        "\n",
        "X[:10], y[:10]"
      ],
      "metadata": {
        "colab": {
          "base_uri": "https://localhost:8080/"
        },
        "id": "lQw6uxQk103v",
        "outputId": "09eb228f-0db0-460e-ad82-ae6433844e80"
      },
      "execution_count": 162,
      "outputs": [
        {
          "output_type": "execute_result",
          "data": {
            "text/plain": [
              "(tensor([[0.0000],\n",
              "         [0.0200],\n",
              "         [0.0400],\n",
              "         [0.0600],\n",
              "         [0.0800],\n",
              "         [0.1000],\n",
              "         [0.1200],\n",
              "         [0.1400],\n",
              "         [0.1600],\n",
              "         [0.1800]]),\n",
              " tensor([[2.0000],\n",
              "         [2.0600],\n",
              "         [2.1200],\n",
              "         [2.1800],\n",
              "         [2.2400],\n",
              "         [2.3000],\n",
              "         [2.3600],\n",
              "         [2.4200],\n",
              "         [2.4800],\n",
              "         [2.5400]]))"
            ]
          },
          "metadata": {},
          "execution_count": 162
        }
      ]
    },
    {
      "cell_type": "code",
      "source": [
        "train_split = int(0.8 * len(X))\n",
        "X_train, y_train = X[:train_split], y[:train_split]\n",
        "X_test, y_test = X[train_split:], y[train_split:]\n",
        "\n",
        "len(X_train), len(y_train), len(X_test), len(y_test)"
      ],
      "metadata": {
        "colab": {
          "base_uri": "https://localhost:8080/"
        },
        "id": "q0hPDlGN2EDL",
        "outputId": "0e984c1c-b994-4b26-c578-efbc3c126625"
      },
      "execution_count": 163,
      "outputs": [
        {
          "output_type": "execute_result",
          "data": {
            "text/plain": [
              "(40, 40, 10, 10)"
            ]
          },
          "metadata": {},
          "execution_count": 163
        }
      ]
    },
    {
      "cell_type": "code",
      "source": [
        "plot()"
      ],
      "metadata": {
        "colab": {
          "base_uri": "https://localhost:8080/",
          "height": 599
        },
        "id": "BD5vdJgE2Gyf",
        "outputId": "1c35db3e-75fb-449e-c93c-0dee54f34a69"
      },
      "execution_count": 164,
      "outputs": [
        {
          "output_type": "display_data",
          "data": {
            "text/plain": [
              "<Figure size 1000x700 with 1 Axes>"
            ],
            "image/png": "[encoded data removed]"
          },
          "metadata": {}
        }
      ]
    },
    {
      "cell_type": "markdown",
      "source": [
        "## Building A linear model"
      ],
      "metadata": {
        "id": "xs-7spo22Ndd"
      }
    },
    {
      "cell_type": "code",
      "source": [
        "class LinearRegressionModelV2(nn.Module):\n",
        "    def __init__(self):\n",
        "        super().__init__()\n",
        "        # Use nn.Linear() for creating the model parameters\n",
        "        self.linear_layer = nn.Linear(in_features=1,\n",
        "                                      out_features=1)\n",
        "    # Define the forward computation (input data x flows through nn.Linear())\n",
        "    def forward(self, x: torch.Tensor) -> torch.Tensor:\n",
        "        return self.linear_layer(x)\n",
        "\n",
        "# torch.manual_seed(42)\n",
        "model_2 = LinearRegressionModelV2()\n",
        "model_2, model_2.state_dict()"
      ],
      "metadata": {
        "colab": {
          "base_uri": "https://localhost:8080/"
        },
        "id": "XeYucJ6r2Irq",
        "outputId": "fb10d1b0-2210-407e-8972-e1cd462e7a7d"
      },
      "execution_count": 165,
      "outputs": [
        {
          "output_type": "execute_result",
          "data": {
            "text/plain": [
              "(LinearRegressionModelV2(\n",
              "   (linear_layer): Linear(in_features=1, out_features=1, bias=True)\n",
              " ),\n",
              " OrderedDict([('linear_layer.weight', tensor([[-0.2191]])),\n",
              "              ('linear_layer.bias', tensor([0.2018]))]))"
            ]
          },
          "metadata": {},
          "execution_count": 165
        }
      ]
    },
    {
      "cell_type": "code",
      "source": [
        "model_2.to(device)"
      ],
      "metadata": {
        "colab": {
          "base_uri": "https://localhost:8080/"
        },
        "id": "_fpA95Jw2eqM",
        "outputId": "c8031a4f-665f-4ac2-ceb8-6f36105e3b50"
      },
      "execution_count": 166,
      "outputs": [
        {
          "output_type": "execute_result",
          "data": {
            "text/plain": [
              "LinearRegressionModelV2(\n",
              "  (linear_layer): Linear(in_features=1, out_features=1, bias=True)\n",
              ")"
            ]
          },
          "metadata": {},
          "execution_count": 166
        }
      ]
    },
    {
      "cell_type": "code",
      "source": [
        "next(model_2.parameters()).device"
      ],
      "metadata": {
        "colab": {
          "base_uri": "https://localhost:8080/"
        },
        "id": "xaaIXeyq2jJM",
        "outputId": "f3f4b109-0db1-4e35-aeae-41e180c7e610"
      },
      "execution_count": 167,
      "outputs": [
        {
          "output_type": "execute_result",
          "data": {
            "text/plain": [
              "device(type='cuda', index=0)"
            ]
          },
          "metadata": {},
          "execution_count": 167
        }
      ]
    },
    {
      "cell_type": "markdown",
      "source": [
        "## Training"
      ],
      "metadata": {
        "id": "OaUe8Yy02qRw"
      }
    },
    {
      "cell_type": "code",
      "source": [
        "loss_fn = nn.L1Loss()\n",
        "\n",
        "optimizer = torch.optim.SGD(params=model_2.parameters(),\n",
        "                            lr = 0.01)"
      ],
      "metadata": {
        "id": "Oo-Y_RA42xdt"
      },
      "execution_count": 168,
      "outputs": []
    },
    {
      "cell_type": "code",
      "source": [
        "epochs = 12001\n",
        "\n",
        "# Put data on the available device\n",
        "# Without this, error will happen (not all model/data on device)\n",
        "X_train = X_train.to(device)\n",
        "X_test = X_test.to(device)\n",
        "y_train = y_train.to(device)\n",
        "y_test = y_test.to(device)\n",
        "\n",
        "for epoch in range(epochs):\n",
        "    ### Training\n",
        "    model_2.train() # train mode is on by default after construction\n",
        "\n",
        "    # 1. Forward pass\n",
        "    y_pred = model_2(X_train)\n",
        "\n",
        "    # 2. Calculate loss\n",
        "    loss = loss_fn(y_pred, y_train)\n",
        "\n",
        "    # 3. Zero grad optimizer\n",
        "    optimizer.zero_grad()\n",
        "\n",
        "    # 4. Loss backward\n",
        "    loss.backward()\n",
        "\n",
        "    # 5. Step the optimizer\n",
        "    optimizer.step()\n",
        "\n",
        "    ### Testing\n",
        "    model_2.eval() # put the model in evaluation mode for testing (inference)\n",
        "    # 1. Forward pass\n",
        "    with torch.inference_mode():\n",
        "        test_pred = model_2(X_test)\n",
        "\n",
        "        # 2. Calculate the loss\n",
        "        test_loss = loss_fn(test_pred, y_test)\n",
        "\n",
        "    if epoch % 1000 == 0:\n",
        "        print(f\"Epoch: {epoch} | Train loss: {loss} | Test loss: {test_loss}\")"
      ],
      "metadata": {
        "colab": {
          "base_uri": "https://localhost:8080/"
        },
        "id": "SveTp_AZ26tI",
        "outputId": "69185854-7207-4342-e620-7227dd34cdaf"
      },
      "execution_count": 169,
      "outputs": [
        {
          "output_type": "stream",
          "name": "stdout",
          "text": [
            "Epoch: 0 | Train loss: 3.053659439086914 | Test loss: 4.649740695953369\n",
            "Epoch: 1000 | Train loss: 0.16684500873088837 | Test loss: 0.38943347334861755\n",
            "Epoch: 2000 | Train loss: 0.004596227314323187 | Test loss: 0.004469966981559992\n",
            "Epoch: 3000 | Train loss: 0.004596227314323187 | Test loss: 0.004469966981559992\n",
            "Epoch: 4000 | Train loss: 0.004596227314323187 | Test loss: 0.004469966981559992\n",
            "Epoch: 5000 | Train loss: 0.004596227314323187 | Test loss: 0.004469966981559992\n",
            "Epoch: 6000 | Train loss: 0.004596227314323187 | Test loss: 0.004469966981559992\n",
            "Epoch: 7000 | Train loss: 0.004596227314323187 | Test loss: 0.004469966981559992\n",
            "Epoch: 8000 | Train loss: 0.004596227314323187 | Test loss: 0.004469966981559992\n",
            "Epoch: 9000 | Train loss: 0.004596227314323187 | Test loss: 0.004469966981559992\n",
            "Epoch: 10000 | Train loss: 0.004596227314323187 | Test loss: 0.004469966981559992\n",
            "Epoch: 11000 | Train loss: 0.004596227314323187 | Test loss: 0.004469966981559992\n",
            "Epoch: 12000 | Train loss: 0.004596227314323187 | Test loss: 0.004469966981559992\n"
          ]
        }
      ]
    },
    {
      "cell_type": "markdown",
      "source": [
        "## Making predictions"
      ],
      "metadata": {
        "id": "lf6XDv3K3I2C"
      }
    },
    {
      "cell_type": "code",
      "source": [
        "model_2.eval()\n",
        "\n",
        "with torch.inference_mode():\n",
        "    y_preds = model_2(X_test)\n",
        "y_preds"
      ],
      "metadata": {
        "colab": {
          "base_uri": "https://localhost:8080/"
        },
        "id": "lBX6C6Lr3S3V",
        "outputId": "d0412c11-3493-4ea3-ae76-10085f7389fc"
      },
      "execution_count": 170,
      "outputs": [
        {
          "output_type": "execute_result",
          "data": {
            "text/plain": [
              "tensor([[4.4049],\n",
              "        [4.4648],\n",
              "        [4.5247],\n",
              "        [4.5846],\n",
              "        [4.6445],\n",
              "        [4.7044],\n",
              "        [4.7643],\n",
              "        [4.8242],\n",
              "        [4.8841],\n",
              "        [4.9440]], device='cuda:0')"
            ]
          },
          "metadata": {},
          "execution_count": 170
        }
      ]
    },
    {
      "cell_type": "code",
      "source": [
        "plot(predictions=y_preds.cpu())"
      ],
      "metadata": {
        "colab": {
          "base_uri": "https://localhost:8080/",
          "height": 599
        },
        "id": "iYETpb5r3cRh",
        "outputId": "c51b9c00-98e7-4349-a0be-d41a702db456"
      },
      "execution_count": 171,
      "outputs": [
        {
          "output_type": "display_data",
          "data": {
            "text/plain": [
              "<Figure size 1000x700 with 1 Axes>"
            ],
            "image/png": "[encoded data removed]"
          },
          "metadata": {}
        }
      ]
    },
    {
      "cell_type": "markdown",
      "source": [
        "## Saving Model"
      ],
      "metadata": {
        "id": "--9O6tU13hy4"
      }
    },
    {
      "cell_type": "code",
      "source": [
        "from pathlib import Path\n",
        "\n",
        "# 1. Create model directory\n",
        "model_path = Path(\"models\")\n",
        "model_path.mkdir(parents=True, exist_ok=True)\n",
        "\n",
        "# 2. Create nodel save path\n",
        "model_anme = \"02_LinearRegression.pth\"\n",
        "model_save_path = model_path / model_anme\n",
        "\n",
        "# 3. Save the model state dict\n",
        "print(f\"Saving model to:{model_save_path}\")\n",
        "torch.save(obj=model_2.state_dict(),\n",
        "               f=model_save_path)"
      ],
      "metadata": {
        "colab": {
          "base_uri": "https://localhost:8080/"
        },
        "id": "Nov9374z4Uc-",
        "outputId": "0055e261-58ad-4599-e91d-05f87c226ef8"
      },
      "execution_count": 175,
      "outputs": [
        {
          "output_type": "stream",
          "name": "stdout",
          "text": [
            "Saving model to:models/02_LinearRegression.pth\n"
          ]
        }
      ]
    },
    {
      "cell_type": "code",
      "source": [
        "loaded_model_2 = LinearRegressionModelV2()\n",
        "\n",
        "# Load model state dict\n",
        "loaded_model_2.load_state_dict(torch.load(model_save_path))\n",
        "\n",
        "# Put model to target device (if your data is on GPU, model will have to be on GPU to make predictions)\n",
        "loaded_model_2.to(device)\n",
        "\n",
        "print(f\"Loaded model:\\n{loaded_model_2}\")\n",
        "print(f\"Model on device:\\n{next(loaded_model_2.parameters()).device}\")"
      ],
      "metadata": {
        "colab": {
          "base_uri": "https://localhost:8080/"
        },
        "id": "UBW8yaTo4vD_",
        "outputId": "3fa37d2c-5062-418d-d985-4997c9402e5c"
      },
      "execution_count": 176,
      "outputs": [
        {
          "output_type": "stream",
          "name": "stdout",
          "text": [
            "Loaded model:\n",
            "LinearRegressionModelV2(\n",
            "  (linear_layer): Linear(in_features=1, out_features=1, bias=True)\n",
            ")\n",
            "Model on device:\n",
            "cuda:0\n"
          ]
        }
      ]
    },
    {
      "cell_type": "code",
      "source": [
        "loaded_model_2.eval()\n",
        "with torch.inference_mode():\n",
        "    loaded_model_2_preds = loaded_model_2(X_test)\n",
        "y_preds == loaded_model_2_preds"
      ],
      "metadata": {
        "colab": {
          "base_uri": "https://localhost:8080/"
        },
        "id": "53uFpdRd45wl",
        "outputId": "721db388-10e3-4bc8-c91a-720bd6ad19bc"
      },
      "execution_count": 177,
      "outputs": [
        {
          "output_type": "execute_result",
          "data": {
            "text/plain": [
              "tensor([[True],\n",
              "        [True],\n",
              "        [True],\n",
              "        [True],\n",
              "        [True],\n",
              "        [True],\n",
              "        [True],\n",
              "        [True],\n",
              "        [True],\n",
              "        [True]], device='cuda:0')"
            ]
          },
          "metadata": {},
          "execution_count": 177
        }
      ]
    },
    {
      "cell_type": "markdown",
      "source": [
        "# Exercises"
      ],
      "metadata": {
        "id": "jNR1ujic5AFI"
      }
    },
    {
      "cell_type": "code",
      "source": [],
      "metadata": {
        "id": "TcWDL9xQ5F3q"
      },
      "execution_count": 174,
      "outputs": []
    }
  ]
}